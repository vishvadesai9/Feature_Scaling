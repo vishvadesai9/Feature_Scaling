{
 "cells": [
  {
   "cell_type": "code",
   "execution_count": 49,
   "metadata": {},
   "outputs": [
    {
     "data": {
      "text/html": [
       "<div>\n",
       "<style scoped>\n",
       "    .dataframe tbody tr th:only-of-type {\n",
       "        vertical-align: middle;\n",
       "    }\n",
       "\n",
       "    .dataframe tbody tr th {\n",
       "        vertical-align: top;\n",
       "    }\n",
       "\n",
       "    .dataframe thead th {\n",
       "        text-align: right;\n",
       "    }\n",
       "</style>\n",
       "<table border=\"1\" class=\"dataframe\">\n",
       "  <thead>\n",
       "    <tr style=\"text-align: right;\">\n",
       "      <th></th>\n",
       "      <th>fixed acidity</th>\n",
       "      <th>volatile acidity</th>\n",
       "      <th>citric acid</th>\n",
       "      <th>residual sugar</th>\n",
       "      <th>chlorides</th>\n",
       "      <th>free sulfur dioxide</th>\n",
       "      <th>total sulfur dioxide</th>\n",
       "      <th>density</th>\n",
       "      <th>pH</th>\n",
       "      <th>sulphates</th>\n",
       "      <th>alcohol</th>\n",
       "      <th>quality</th>\n",
       "    </tr>\n",
       "  </thead>\n",
       "  <tbody>\n",
       "    <tr>\n",
       "      <th>0</th>\n",
       "      <td>7.4</td>\n",
       "      <td>0.70</td>\n",
       "      <td>0.00</td>\n",
       "      <td>1.9</td>\n",
       "      <td>0.076</td>\n",
       "      <td>11.0</td>\n",
       "      <td>34.0</td>\n",
       "      <td>0.9978</td>\n",
       "      <td>3.51</td>\n",
       "      <td>0.56</td>\n",
       "      <td>9.4</td>\n",
       "      <td>5</td>\n",
       "    </tr>\n",
       "    <tr>\n",
       "      <th>1</th>\n",
       "      <td>7.8</td>\n",
       "      <td>0.88</td>\n",
       "      <td>0.00</td>\n",
       "      <td>2.6</td>\n",
       "      <td>0.098</td>\n",
       "      <td>25.0</td>\n",
       "      <td>67.0</td>\n",
       "      <td>0.9968</td>\n",
       "      <td>3.20</td>\n",
       "      <td>0.68</td>\n",
       "      <td>9.8</td>\n",
       "      <td>5</td>\n",
       "    </tr>\n",
       "    <tr>\n",
       "      <th>2</th>\n",
       "      <td>7.8</td>\n",
       "      <td>0.76</td>\n",
       "      <td>0.04</td>\n",
       "      <td>2.3</td>\n",
       "      <td>0.092</td>\n",
       "      <td>15.0</td>\n",
       "      <td>54.0</td>\n",
       "      <td>0.9970</td>\n",
       "      <td>3.26</td>\n",
       "      <td>0.65</td>\n",
       "      <td>9.8</td>\n",
       "      <td>5</td>\n",
       "    </tr>\n",
       "    <tr>\n",
       "      <th>3</th>\n",
       "      <td>11.2</td>\n",
       "      <td>0.28</td>\n",
       "      <td>0.56</td>\n",
       "      <td>1.9</td>\n",
       "      <td>0.075</td>\n",
       "      <td>17.0</td>\n",
       "      <td>60.0</td>\n",
       "      <td>0.9980</td>\n",
       "      <td>3.16</td>\n",
       "      <td>0.58</td>\n",
       "      <td>9.8</td>\n",
       "      <td>6</td>\n",
       "    </tr>\n",
       "    <tr>\n",
       "      <th>4</th>\n",
       "      <td>7.4</td>\n",
       "      <td>0.70</td>\n",
       "      <td>0.00</td>\n",
       "      <td>1.9</td>\n",
       "      <td>0.076</td>\n",
       "      <td>11.0</td>\n",
       "      <td>34.0</td>\n",
       "      <td>0.9978</td>\n",
       "      <td>3.51</td>\n",
       "      <td>0.56</td>\n",
       "      <td>9.4</td>\n",
       "      <td>5</td>\n",
       "    </tr>\n",
       "  </tbody>\n",
       "</table>\n",
       "</div>"
      ],
      "text/plain": [
       "   fixed acidity  volatile acidity  citric acid  residual sugar  chlorides  \\\n",
       "0            7.4              0.70         0.00             1.9      0.076   \n",
       "1            7.8              0.88         0.00             2.6      0.098   \n",
       "2            7.8              0.76         0.04             2.3      0.092   \n",
       "3           11.2              0.28         0.56             1.9      0.075   \n",
       "4            7.4              0.70         0.00             1.9      0.076   \n",
       "\n",
       "   free sulfur dioxide  total sulfur dioxide  density    pH  sulphates  \\\n",
       "0                 11.0                  34.0   0.9978  3.51       0.56   \n",
       "1                 25.0                  67.0   0.9968  3.20       0.68   \n",
       "2                 15.0                  54.0   0.9970  3.26       0.65   \n",
       "3                 17.0                  60.0   0.9980  3.16       0.58   \n",
       "4                 11.0                  34.0   0.9978  3.51       0.56   \n",
       "\n",
       "   alcohol  quality  \n",
       "0      9.4        5  \n",
       "1      9.8        5  \n",
       "2      9.8        5  \n",
       "3      9.8        6  \n",
       "4      9.4        5  "
      ]
     },
     "execution_count": 49,
     "metadata": {},
     "output_type": "execute_result"
    }
   ],
   "source": [
    "import pandas as pd\n",
    "from sklearn.model_selection import train_test_split \n",
    "from sklearn.linear_model import LinearRegression \n",
    "from sklearn.metrics import mean_squared_error, r2_score\n",
    "import matplotlib.pyplot as plt \n",
    "import numpy as np \n",
    "import seaborn as sns\n",
    "df = pd.read_csv('winequality-red.csv')\n",
    "df.head(5)"
   ]
  },
  {
   "cell_type": "code",
   "execution_count": 26,
   "metadata": {},
   "outputs": [],
   "source": [
    "rms=[]\n",
    "r2=[]\n"
   ]
  },
  {
   "cell_type": "markdown",
   "metadata": {},
   "source": [
    "UNSCALED"
   ]
  },
  {
   "cell_type": "code",
   "execution_count": 27,
   "metadata": {},
   "outputs": [],
   "source": [
    "X = df.drop('quality',axis=1)\n",
    "y = df['quality']\n",
    "X_train,X_test,y_train,y_test=train_test_split(X,y)"
   ]
  },
  {
   "cell_type": "code",
   "execution_count": 28,
   "metadata": {},
   "outputs": [
    {
     "data": {
      "text/plain": [
       "LinearRegression()"
      ]
     },
     "execution_count": 28,
     "metadata": {},
     "output_type": "execute_result"
    }
   ],
   "source": [
    "model = LinearRegression()\n",
    "model.fit(X_train,y_train)"
   ]
  },
  {
   "cell_type": "code",
   "execution_count": 29,
   "metadata": {},
   "outputs": [
    {
     "data": {
      "text/plain": [
       "(0.6920188034463196, 0.33588957936031627)"
      ]
     },
     "execution_count": 29,
     "metadata": {},
     "output_type": "execute_result"
    }
   ],
   "source": [
    "\n",
    "y_pred = model.predict(X_test)\n",
    "un_rmse=np.sqrt(mean_squared_error(y_test,y_pred))\n",
    "un_r2=r2_score(y_test,y_pred)\n",
    "rms.append(un_rmse)\n",
    "r2.append(un_r2)\n",
    "un_rmse,un_r2"
   ]
  },
  {
   "cell_type": "markdown",
   "metadata": {},
   "source": [
    "MINMAX SCALER"
   ]
  },
  {
   "cell_type": "code",
   "execution_count": 50,
   "metadata": {},
   "outputs": [
    {
     "data": {
      "text/html": [
       "<div>\n",
       "<style scoped>\n",
       "    .dataframe tbody tr th:only-of-type {\n",
       "        vertical-align: middle;\n",
       "    }\n",
       "\n",
       "    .dataframe tbody tr th {\n",
       "        vertical-align: top;\n",
       "    }\n",
       "\n",
       "    .dataframe thead th {\n",
       "        text-align: right;\n",
       "    }\n",
       "</style>\n",
       "<table border=\"1\" class=\"dataframe\">\n",
       "  <thead>\n",
       "    <tr style=\"text-align: right;\">\n",
       "      <th></th>\n",
       "      <th>fixed acidity</th>\n",
       "      <th>volatile acidity</th>\n",
       "      <th>citric acid</th>\n",
       "      <th>residual sugar</th>\n",
       "      <th>chlorides</th>\n",
       "      <th>free sulfur dioxide</th>\n",
       "      <th>total sulfur dioxide</th>\n",
       "      <th>density</th>\n",
       "      <th>pH</th>\n",
       "      <th>sulphates</th>\n",
       "      <th>alcohol</th>\n",
       "    </tr>\n",
       "  </thead>\n",
       "  <tbody>\n",
       "    <tr>\n",
       "      <th>0</th>\n",
       "      <td>0.247788</td>\n",
       "      <td>0.397260</td>\n",
       "      <td>0.00</td>\n",
       "      <td>0.068493</td>\n",
       "      <td>0.106845</td>\n",
       "      <td>0.140845</td>\n",
       "      <td>0.098940</td>\n",
       "      <td>0.567548</td>\n",
       "      <td>0.606299</td>\n",
       "      <td>0.137725</td>\n",
       "      <td>0.153846</td>\n",
       "    </tr>\n",
       "    <tr>\n",
       "      <th>1</th>\n",
       "      <td>0.283186</td>\n",
       "      <td>0.520548</td>\n",
       "      <td>0.00</td>\n",
       "      <td>0.116438</td>\n",
       "      <td>0.143573</td>\n",
       "      <td>0.338028</td>\n",
       "      <td>0.215548</td>\n",
       "      <td>0.494126</td>\n",
       "      <td>0.362205</td>\n",
       "      <td>0.209581</td>\n",
       "      <td>0.215385</td>\n",
       "    </tr>\n",
       "    <tr>\n",
       "      <th>2</th>\n",
       "      <td>0.283186</td>\n",
       "      <td>0.438356</td>\n",
       "      <td>0.04</td>\n",
       "      <td>0.095890</td>\n",
       "      <td>0.133556</td>\n",
       "      <td>0.197183</td>\n",
       "      <td>0.169611</td>\n",
       "      <td>0.508811</td>\n",
       "      <td>0.409449</td>\n",
       "      <td>0.191617</td>\n",
       "      <td>0.215385</td>\n",
       "    </tr>\n",
       "    <tr>\n",
       "      <th>3</th>\n",
       "      <td>0.584071</td>\n",
       "      <td>0.109589</td>\n",
       "      <td>0.56</td>\n",
       "      <td>0.068493</td>\n",
       "      <td>0.105175</td>\n",
       "      <td>0.225352</td>\n",
       "      <td>0.190813</td>\n",
       "      <td>0.582232</td>\n",
       "      <td>0.330709</td>\n",
       "      <td>0.149701</td>\n",
       "      <td>0.215385</td>\n",
       "    </tr>\n",
       "    <tr>\n",
       "      <th>4</th>\n",
       "      <td>0.247788</td>\n",
       "      <td>0.397260</td>\n",
       "      <td>0.00</td>\n",
       "      <td>0.068493</td>\n",
       "      <td>0.106845</td>\n",
       "      <td>0.140845</td>\n",
       "      <td>0.098940</td>\n",
       "      <td>0.567548</td>\n",
       "      <td>0.606299</td>\n",
       "      <td>0.137725</td>\n",
       "      <td>0.153846</td>\n",
       "    </tr>\n",
       "  </tbody>\n",
       "</table>\n",
       "</div>"
      ],
      "text/plain": [
       "   fixed acidity  volatile acidity  citric acid  residual sugar  chlorides  \\\n",
       "0       0.247788          0.397260         0.00        0.068493   0.106845   \n",
       "1       0.283186          0.520548         0.00        0.116438   0.143573   \n",
       "2       0.283186          0.438356         0.04        0.095890   0.133556   \n",
       "3       0.584071          0.109589         0.56        0.068493   0.105175   \n",
       "4       0.247788          0.397260         0.00        0.068493   0.106845   \n",
       "\n",
       "   free sulfur dioxide  total sulfur dioxide   density        pH  sulphates  \\\n",
       "0             0.140845              0.098940  0.567548  0.606299   0.137725   \n",
       "1             0.338028              0.215548  0.494126  0.362205   0.209581   \n",
       "2             0.197183              0.169611  0.508811  0.409449   0.191617   \n",
       "3             0.225352              0.190813  0.582232  0.330709   0.149701   \n",
       "4             0.140845              0.098940  0.567548  0.606299   0.137725   \n",
       "\n",
       "    alcohol  \n",
       "0  0.153846  \n",
       "1  0.215385  \n",
       "2  0.215385  \n",
       "3  0.215385  \n",
       "4  0.153846  "
      ]
     },
     "execution_count": 50,
     "metadata": {},
     "output_type": "execute_result"
    }
   ],
   "source": [
    "from sklearn.preprocessing import MinMaxScaler\n",
    "norm = MinMaxScaler()\n",
    "norm_X = pd.DataFrame(norm.fit_transform(X),columns=X.columns)\n",
    "norm_X.head(5)"
   ]
  },
  {
   "cell_type": "code",
   "execution_count": 31,
   "metadata": {},
   "outputs": [
    {
     "data": {
      "text/plain": [
       "(0.6350769491903974, 0.37657218051340247)"
      ]
     },
     "execution_count": 31,
     "metadata": {},
     "output_type": "execute_result"
    }
   ],
   "source": [
    "X_train,X_test,y_train,y_test=train_test_split(norm_X,y)\n",
    "model.fit(X_train,y_train)\n",
    "y_pred = model.predict(X_test)\n",
    "minmax_rmse=np.sqrt(mean_squared_error(y_test,y_pred))\n",
    "minmax_r2=r2_score(y_test,y_pred)\n",
    "rms.append(minmax_rmse)\n",
    "r2.append(minmax_r2)\n",
    "minmax_rmse,minmax_r2"
   ]
  },
  {
   "cell_type": "markdown",
   "metadata": {},
   "source": [
    "STANDARD SCALER"
   ]
  },
  {
   "cell_type": "code",
   "execution_count": 32,
   "metadata": {},
   "outputs": [
    {
     "data": {
      "text/html": [
       "<div>\n",
       "<style scoped>\n",
       "    .dataframe tbody tr th:only-of-type {\n",
       "        vertical-align: middle;\n",
       "    }\n",
       "\n",
       "    .dataframe tbody tr th {\n",
       "        vertical-align: top;\n",
       "    }\n",
       "\n",
       "    .dataframe thead th {\n",
       "        text-align: right;\n",
       "    }\n",
       "</style>\n",
       "<table border=\"1\" class=\"dataframe\">\n",
       "  <thead>\n",
       "    <tr style=\"text-align: right;\">\n",
       "      <th></th>\n",
       "      <th>fixed acidity</th>\n",
       "      <th>volatile acidity</th>\n",
       "      <th>citric acid</th>\n",
       "      <th>residual sugar</th>\n",
       "      <th>chlorides</th>\n",
       "      <th>free sulfur dioxide</th>\n",
       "      <th>total sulfur dioxide</th>\n",
       "      <th>density</th>\n",
       "      <th>pH</th>\n",
       "      <th>sulphates</th>\n",
       "      <th>alcohol</th>\n",
       "    </tr>\n",
       "  </thead>\n",
       "  <tbody>\n",
       "    <tr>\n",
       "      <th>0</th>\n",
       "      <td>-0.528360</td>\n",
       "      <td>0.961877</td>\n",
       "      <td>-1.391472</td>\n",
       "      <td>-0.453218</td>\n",
       "      <td>-0.243707</td>\n",
       "      <td>-0.466193</td>\n",
       "      <td>-0.379133</td>\n",
       "      <td>0.558274</td>\n",
       "      <td>1.288643</td>\n",
       "      <td>-0.579207</td>\n",
       "      <td>-0.960246</td>\n",
       "    </tr>\n",
       "    <tr>\n",
       "      <th>1</th>\n",
       "      <td>-0.298547</td>\n",
       "      <td>1.967442</td>\n",
       "      <td>-1.391472</td>\n",
       "      <td>0.043416</td>\n",
       "      <td>0.223875</td>\n",
       "      <td>0.872638</td>\n",
       "      <td>0.624363</td>\n",
       "      <td>0.028261</td>\n",
       "      <td>-0.719933</td>\n",
       "      <td>0.128950</td>\n",
       "      <td>-0.584777</td>\n",
       "    </tr>\n",
       "    <tr>\n",
       "      <th>2</th>\n",
       "      <td>-0.298547</td>\n",
       "      <td>1.297065</td>\n",
       "      <td>-1.186070</td>\n",
       "      <td>-0.169427</td>\n",
       "      <td>0.096353</td>\n",
       "      <td>-0.083669</td>\n",
       "      <td>0.229047</td>\n",
       "      <td>0.134264</td>\n",
       "      <td>-0.331177</td>\n",
       "      <td>-0.048089</td>\n",
       "      <td>-0.584777</td>\n",
       "    </tr>\n",
       "    <tr>\n",
       "      <th>3</th>\n",
       "      <td>1.654856</td>\n",
       "      <td>-1.384443</td>\n",
       "      <td>1.484154</td>\n",
       "      <td>-0.453218</td>\n",
       "      <td>-0.264960</td>\n",
       "      <td>0.107592</td>\n",
       "      <td>0.411500</td>\n",
       "      <td>0.664277</td>\n",
       "      <td>-0.979104</td>\n",
       "      <td>-0.461180</td>\n",
       "      <td>-0.584777</td>\n",
       "    </tr>\n",
       "    <tr>\n",
       "      <th>4</th>\n",
       "      <td>-0.528360</td>\n",
       "      <td>0.961877</td>\n",
       "      <td>-1.391472</td>\n",
       "      <td>-0.453218</td>\n",
       "      <td>-0.243707</td>\n",
       "      <td>-0.466193</td>\n",
       "      <td>-0.379133</td>\n",
       "      <td>0.558274</td>\n",
       "      <td>1.288643</td>\n",
       "      <td>-0.579207</td>\n",
       "      <td>-0.960246</td>\n",
       "    </tr>\n",
       "  </tbody>\n",
       "</table>\n",
       "</div>"
      ],
      "text/plain": [
       "   fixed acidity  volatile acidity  citric acid  residual sugar  chlorides  \\\n",
       "0      -0.528360          0.961877    -1.391472       -0.453218  -0.243707   \n",
       "1      -0.298547          1.967442    -1.391472        0.043416   0.223875   \n",
       "2      -0.298547          1.297065    -1.186070       -0.169427   0.096353   \n",
       "3       1.654856         -1.384443     1.484154       -0.453218  -0.264960   \n",
       "4      -0.528360          0.961877    -1.391472       -0.453218  -0.243707   \n",
       "\n",
       "   free sulfur dioxide  total sulfur dioxide   density        pH  sulphates  \\\n",
       "0            -0.466193             -0.379133  0.558274  1.288643  -0.579207   \n",
       "1             0.872638              0.624363  0.028261 -0.719933   0.128950   \n",
       "2            -0.083669              0.229047  0.134264 -0.331177  -0.048089   \n",
       "3             0.107592              0.411500  0.664277 -0.979104  -0.461180   \n",
       "4            -0.466193             -0.379133  0.558274  1.288643  -0.579207   \n",
       "\n",
       "    alcohol  \n",
       "0 -0.960246  \n",
       "1 -0.584777  \n",
       "2 -0.584777  \n",
       "3 -0.584777  \n",
       "4 -0.960246  "
      ]
     },
     "execution_count": 32,
     "metadata": {},
     "output_type": "execute_result"
    }
   ],
   "source": [
    "from sklearn.preprocessing import StandardScaler\n",
    "stand = StandardScaler()\n",
    "stand_X = pd.DataFrame(stand.fit_transform(X),columns=X.columns)\n",
    "stand_X.head(5)"
   ]
  },
  {
   "cell_type": "code",
   "execution_count": 33,
   "metadata": {},
   "outputs": [
    {
     "data": {
      "text/plain": [
       "(0.6837499075527305, 0.27790802509350443)"
      ]
     },
     "execution_count": 33,
     "metadata": {},
     "output_type": "execute_result"
    }
   ],
   "source": [
    "X_train,X_test,y_train,y_test=train_test_split(stand_X,y)\n",
    "model.fit(X_train,y_train)\n",
    "y_pred = model.predict(X_test)\n",
    "stand_rmse=np.sqrt(mean_squared_error(y_test,y_pred))\n",
    "stand_r2=r2_score(y_test,y_pred)\n",
    "rms.append(stand_rmse)\n",
    "r2.append(stand_r2)\n",
    "stand_rmse,stand_r2"
   ]
  },
  {
   "cell_type": "markdown",
   "metadata": {},
   "source": [
    "UNSCALED vs SCALED FEATURES"
   ]
  },
  {
   "cell_type": "code",
   "execution_count": 34,
   "metadata": {},
   "outputs": [
    {
     "data": {
      "image/png": "[encoded data removed]",
      "text/plain": [
       "<Figure size 576x360 with 3 Axes>"
      ]
     },
     "metadata": {
      "needs_background": "light"
     },
     "output_type": "display_data"
    }
   ],
   "source": [
    "fig, ax=plt.subplots(1,3,figsize=(8,5))\n",
    "fig.tight_layout()\n",
    "sns.distplot(X, ax=ax[0], color='g')\n",
    "ax[0].set_title(\"Unscaled\")\n",
    "sns.distplot(norm_X, ax=ax[1],color='b')\n",
    "ax[1].set_title(\"Normalized\")\n",
    "sns.distplot(stand_X, ax=ax[2],color='r')\n",
    "ax[2].set_title(\"Standardized\")\n",
    "plt.show()"
   ]
  },
  {
   "cell_type": "markdown",
   "metadata": {},
   "source": [
    "MAX ABS SCALER"
   ]
  },
  {
   "cell_type": "code",
   "execution_count": 35,
   "metadata": {},
   "outputs": [
    {
     "data": {
      "text/html": [
       "<div>\n",
       "<style scoped>\n",
       "    .dataframe tbody tr th:only-of-type {\n",
       "        vertical-align: middle;\n",
       "    }\n",
       "\n",
       "    .dataframe tbody tr th {\n",
       "        vertical-align: top;\n",
       "    }\n",
       "\n",
       "    .dataframe thead th {\n",
       "        text-align: right;\n",
       "    }\n",
       "</style>\n",
       "<table border=\"1\" class=\"dataframe\">\n",
       "  <thead>\n",
       "    <tr style=\"text-align: right;\">\n",
       "      <th></th>\n",
       "      <th>fixed acidity</th>\n",
       "      <th>volatile acidity</th>\n",
       "      <th>citric acid</th>\n",
       "      <th>residual sugar</th>\n",
       "      <th>chlorides</th>\n",
       "      <th>free sulfur dioxide</th>\n",
       "      <th>total sulfur dioxide</th>\n",
       "      <th>density</th>\n",
       "      <th>pH</th>\n",
       "      <th>sulphates</th>\n",
       "      <th>alcohol</th>\n",
       "    </tr>\n",
       "  </thead>\n",
       "  <tbody>\n",
       "    <tr>\n",
       "      <th>0</th>\n",
       "      <td>0.465409</td>\n",
       "      <td>0.443038</td>\n",
       "      <td>0.00</td>\n",
       "      <td>0.122581</td>\n",
       "      <td>0.124386</td>\n",
       "      <td>0.152778</td>\n",
       "      <td>0.117647</td>\n",
       "      <td>0.994132</td>\n",
       "      <td>0.875312</td>\n",
       "      <td>0.280</td>\n",
       "      <td>0.630872</td>\n",
       "    </tr>\n",
       "    <tr>\n",
       "      <th>1</th>\n",
       "      <td>0.490566</td>\n",
       "      <td>0.556962</td>\n",
       "      <td>0.00</td>\n",
       "      <td>0.167742</td>\n",
       "      <td>0.160393</td>\n",
       "      <td>0.347222</td>\n",
       "      <td>0.231834</td>\n",
       "      <td>0.993135</td>\n",
       "      <td>0.798005</td>\n",
       "      <td>0.340</td>\n",
       "      <td>0.657718</td>\n",
       "    </tr>\n",
       "    <tr>\n",
       "      <th>2</th>\n",
       "      <td>0.490566</td>\n",
       "      <td>0.481013</td>\n",
       "      <td>0.04</td>\n",
       "      <td>0.148387</td>\n",
       "      <td>0.150573</td>\n",
       "      <td>0.208333</td>\n",
       "      <td>0.186851</td>\n",
       "      <td>0.993335</td>\n",
       "      <td>0.812968</td>\n",
       "      <td>0.325</td>\n",
       "      <td>0.657718</td>\n",
       "    </tr>\n",
       "    <tr>\n",
       "      <th>3</th>\n",
       "      <td>0.704403</td>\n",
       "      <td>0.177215</td>\n",
       "      <td>0.56</td>\n",
       "      <td>0.122581</td>\n",
       "      <td>0.122750</td>\n",
       "      <td>0.236111</td>\n",
       "      <td>0.207612</td>\n",
       "      <td>0.994331</td>\n",
       "      <td>0.788030</td>\n",
       "      <td>0.290</td>\n",
       "      <td>0.657718</td>\n",
       "    </tr>\n",
       "    <tr>\n",
       "      <th>4</th>\n",
       "      <td>0.465409</td>\n",
       "      <td>0.443038</td>\n",
       "      <td>0.00</td>\n",
       "      <td>0.122581</td>\n",
       "      <td>0.124386</td>\n",
       "      <td>0.152778</td>\n",
       "      <td>0.117647</td>\n",
       "      <td>0.994132</td>\n",
       "      <td>0.875312</td>\n",
       "      <td>0.280</td>\n",
       "      <td>0.630872</td>\n",
       "    </tr>\n",
       "  </tbody>\n",
       "</table>\n",
       "</div>"
      ],
      "text/plain": [
       "   fixed acidity  volatile acidity  citric acid  residual sugar  chlorides  \\\n",
       "0       0.465409          0.443038         0.00        0.122581   0.124386   \n",
       "1       0.490566          0.556962         0.00        0.167742   0.160393   \n",
       "2       0.490566          0.481013         0.04        0.148387   0.150573   \n",
       "3       0.704403          0.177215         0.56        0.122581   0.122750   \n",
       "4       0.465409          0.443038         0.00        0.122581   0.124386   \n",
       "\n",
       "   free sulfur dioxide  total sulfur dioxide   density        pH  sulphates  \\\n",
       "0             0.152778              0.117647  0.994132  0.875312      0.280   \n",
       "1             0.347222              0.231834  0.993135  0.798005      0.340   \n",
       "2             0.208333              0.186851  0.993335  0.812968      0.325   \n",
       "3             0.236111              0.207612  0.994331  0.788030      0.290   \n",
       "4             0.152778              0.117647  0.994132  0.875312      0.280   \n",
       "\n",
       "    alcohol  \n",
       "0  0.630872  \n",
       "1  0.657718  \n",
       "2  0.657718  \n",
       "3  0.657718  \n",
       "4  0.630872  "
      ]
     },
     "execution_count": 35,
     "metadata": {},
     "output_type": "execute_result"
    }
   ],
   "source": [
    "from sklearn.preprocessing import MaxAbsScaler\n",
    "max_ab = MaxAbsScaler()\n",
    "max_ab_X = pd.DataFrame(max_ab.fit_transform(X),columns=X.columns)\n",
    "max_ab_X.head(5)"
   ]
  },
  {
   "cell_type": "code",
   "execution_count": 36,
   "metadata": {},
   "outputs": [
    {
     "data": {
      "text/plain": [
       "Text(0.5, 1.0, 'Max Abs')"
      ]
     },
     "execution_count": 36,
     "metadata": {},
     "output_type": "execute_result"
    },
    {
     "data": {
      "image/png": "[encoded data removed]",
      "text/plain": [
       "<Figure size 576x360 with 2 Axes>"
      ]
     },
     "metadata": {
      "needs_background": "light"
     },
     "output_type": "display_data"
    }
   ],
   "source": [
    "fig, ax=plt.subplots(1,2,figsize=(8,5))\n",
    "fig.tight_layout()\n",
    "sns.distplot(X, ax=ax[0], color='g')\n",
    "ax[0].set_title(\"Unscaled\")\n",
    "sns.distplot(max_ab_X, ax=ax[1],color='y')\n",
    "ax[1].set_title(\"Max Abs\")"
   ]
  },
  {
   "cell_type": "code",
   "execution_count": 37,
   "metadata": {},
   "outputs": [
    {
     "data": {
      "text/plain": [
       "(0.6485267632122467, 0.35391226605852233)"
      ]
     },
     "execution_count": 37,
     "metadata": {},
     "output_type": "execute_result"
    }
   ],
   "source": [
    "X_train,X_test,y_train,y_test=train_test_split(max_ab_X,y)\n",
    "model.fit(X_train,y_train)\n",
    "y_pred = model.predict(X_test)\n",
    "max_ab_rmse=np.sqrt(mean_squared_error(y_test,y_pred))\n",
    "max_ab_r2=r2_score(y_test,y_pred)\n",
    "rms.append(max_ab_rmse)\n",
    "r2.append(max_ab_r2)\n",
    "max_ab_rmse,max_ab_r2"
   ]
  },
  {
   "cell_type": "markdown",
   "metadata": {},
   "source": [
    "ROBUST SCALER"
   ]
  },
  {
   "cell_type": "code",
   "execution_count": 38,
   "metadata": {},
   "outputs": [
    {
     "data": {
      "text/html": [
       "<div>\n",
       "<style scoped>\n",
       "    .dataframe tbody tr th:only-of-type {\n",
       "        vertical-align: middle;\n",
       "    }\n",
       "\n",
       "    .dataframe tbody tr th {\n",
       "        vertical-align: top;\n",
       "    }\n",
       "\n",
       "    .dataframe thead th {\n",
       "        text-align: right;\n",
       "    }\n",
       "</style>\n",
       "<table border=\"1\" class=\"dataframe\">\n",
       "  <thead>\n",
       "    <tr style=\"text-align: right;\">\n",
       "      <th></th>\n",
       "      <th>fixed acidity</th>\n",
       "      <th>volatile acidity</th>\n",
       "      <th>citric acid</th>\n",
       "      <th>residual sugar</th>\n",
       "      <th>chlorides</th>\n",
       "      <th>free sulfur dioxide</th>\n",
       "      <th>total sulfur dioxide</th>\n",
       "      <th>density</th>\n",
       "      <th>pH</th>\n",
       "      <th>sulphates</th>\n",
       "      <th>alcohol</th>\n",
       "    </tr>\n",
       "  </thead>\n",
       "  <tbody>\n",
       "    <tr>\n",
       "      <th>0</th>\n",
       "      <td>-0.238095</td>\n",
       "      <td>0.72</td>\n",
       "      <td>-0.787879</td>\n",
       "      <td>-0.428571</td>\n",
       "      <td>-0.15</td>\n",
       "      <td>-0.214286</td>\n",
       "      <td>-0.100</td>\n",
       "      <td>0.469799</td>\n",
       "      <td>1.052632</td>\n",
       "      <td>-0.333333</td>\n",
       "      <td>-0.50</td>\n",
       "    </tr>\n",
       "    <tr>\n",
       "      <th>1</th>\n",
       "      <td>-0.047619</td>\n",
       "      <td>1.44</td>\n",
       "      <td>-0.787879</td>\n",
       "      <td>0.571429</td>\n",
       "      <td>0.95</td>\n",
       "      <td>0.785714</td>\n",
       "      <td>0.725</td>\n",
       "      <td>0.022371</td>\n",
       "      <td>-0.578947</td>\n",
       "      <td>0.333333</td>\n",
       "      <td>-0.25</td>\n",
       "    </tr>\n",
       "    <tr>\n",
       "      <th>2</th>\n",
       "      <td>-0.047619</td>\n",
       "      <td>0.96</td>\n",
       "      <td>-0.666667</td>\n",
       "      <td>0.142857</td>\n",
       "      <td>0.65</td>\n",
       "      <td>0.071429</td>\n",
       "      <td>0.400</td>\n",
       "      <td>0.111857</td>\n",
       "      <td>-0.263158</td>\n",
       "      <td>0.166667</td>\n",
       "      <td>-0.25</td>\n",
       "    </tr>\n",
       "    <tr>\n",
       "      <th>3</th>\n",
       "      <td>1.571429</td>\n",
       "      <td>-0.96</td>\n",
       "      <td>0.909091</td>\n",
       "      <td>-0.428571</td>\n",
       "      <td>-0.20</td>\n",
       "      <td>0.214286</td>\n",
       "      <td>0.550</td>\n",
       "      <td>0.559284</td>\n",
       "      <td>-0.789474</td>\n",
       "      <td>-0.222222</td>\n",
       "      <td>-0.25</td>\n",
       "    </tr>\n",
       "    <tr>\n",
       "      <th>4</th>\n",
       "      <td>-0.238095</td>\n",
       "      <td>0.72</td>\n",
       "      <td>-0.787879</td>\n",
       "      <td>-0.428571</td>\n",
       "      <td>-0.15</td>\n",
       "      <td>-0.214286</td>\n",
       "      <td>-0.100</td>\n",
       "      <td>0.469799</td>\n",
       "      <td>1.052632</td>\n",
       "      <td>-0.333333</td>\n",
       "      <td>-0.50</td>\n",
       "    </tr>\n",
       "  </tbody>\n",
       "</table>\n",
       "</div>"
      ],
      "text/plain": [
       "   fixed acidity  volatile acidity  citric acid  residual sugar  chlorides  \\\n",
       "0      -0.238095              0.72    -0.787879       -0.428571      -0.15   \n",
       "1      -0.047619              1.44    -0.787879        0.571429       0.95   \n",
       "2      -0.047619              0.96    -0.666667        0.142857       0.65   \n",
       "3       1.571429             -0.96     0.909091       -0.428571      -0.20   \n",
       "4      -0.238095              0.72    -0.787879       -0.428571      -0.15   \n",
       "\n",
       "   free sulfur dioxide  total sulfur dioxide   density        pH  sulphates  \\\n",
       "0            -0.214286                -0.100  0.469799  1.052632  -0.333333   \n",
       "1             0.785714                 0.725  0.022371 -0.578947   0.333333   \n",
       "2             0.071429                 0.400  0.111857 -0.263158   0.166667   \n",
       "3             0.214286                 0.550  0.559284 -0.789474  -0.222222   \n",
       "4            -0.214286                -0.100  0.469799  1.052632  -0.333333   \n",
       "\n",
       "   alcohol  \n",
       "0    -0.50  \n",
       "1    -0.25  \n",
       "2    -0.25  \n",
       "3    -0.25  \n",
       "4    -0.50  "
      ]
     },
     "execution_count": 38,
     "metadata": {},
     "output_type": "execute_result"
    }
   ],
   "source": [
    "from sklearn.preprocessing import RobustScaler\n",
    "robust = RobustScaler()\n",
    "robust_X = pd.DataFrame(robust.fit_transform(X),columns=X.columns)\n",
    "robust_X.head(5)"
   ]
  },
  {
   "cell_type": "code",
   "execution_count": 39,
   "metadata": {},
   "outputs": [
    {
     "data": {
      "text/plain": [
       "Text(0.5, 1.0, 'Robust Scaler')"
      ]
     },
     "execution_count": 39,
     "metadata": {},
     "output_type": "execute_result"
    },
    {
     "data": {
      "image/png": "[encoded data removed]",
      "text/plain": [
       "<Figure size 576x360 with 2 Axes>"
      ]
     },
     "metadata": {
      "needs_background": "light"
     },
     "output_type": "display_data"
    }
   ],
   "source": [
    "fig, ax=plt.subplots(1,2,figsize=(8,5))\n",
    "fig.tight_layout()\n",
    "sns.distplot(X, ax=ax[0], color='g')\n",
    "ax[0].set_title(\"Unscaled\")\n",
    "sns.distplot(robust_X, ax=ax[1],color='orange')\n",
    "ax[1].set_title(\"Robust Scaler\")"
   ]
  },
  {
   "cell_type": "code",
   "execution_count": 40,
   "metadata": {},
   "outputs": [
    {
     "data": {
      "text/plain": [
       "(0.6424286135243095, 0.35624001953709805)"
      ]
     },
     "execution_count": 40,
     "metadata": {},
     "output_type": "execute_result"
    }
   ],
   "source": [
    "X_train,X_test,y_train,y_test=train_test_split(robust_X,y)\n",
    "model.fit(X_train,y_train)\n",
    "y_pred = model.predict(X_test)\n",
    "robust_rmse=np.sqrt(mean_squared_error(y_test,y_pred))\n",
    "robust_r2=r2_score(y_test,y_pred)\n",
    "rms.append(robust_rmse)\n",
    "r2.append(robust_r2)\n",
    "robust_rmse,robust_r2"
   ]
  },
  {
   "cell_type": "markdown",
   "metadata": {},
   "source": [
    "QUANTILE TRANSFORMER"
   ]
  },
  {
   "cell_type": "code",
   "execution_count": 41,
   "metadata": {},
   "outputs": [
    {
     "data": {
      "text/html": [
       "<div>\n",
       "<style scoped>\n",
       "    .dataframe tbody tr th:only-of-type {\n",
       "        vertical-align: middle;\n",
       "    }\n",
       "\n",
       "    .dataframe tbody tr th {\n",
       "        vertical-align: top;\n",
       "    }\n",
       "\n",
       "    .dataframe thead th {\n",
       "        text-align: right;\n",
       "    }\n",
       "</style>\n",
       "<table border=\"1\" class=\"dataframe\">\n",
       "  <thead>\n",
       "    <tr style=\"text-align: right;\">\n",
       "      <th></th>\n",
       "      <th>fixed acidity</th>\n",
       "      <th>volatile acidity</th>\n",
       "      <th>citric acid</th>\n",
       "      <th>residual sugar</th>\n",
       "      <th>chlorides</th>\n",
       "      <th>free sulfur dioxide</th>\n",
       "      <th>total sulfur dioxide</th>\n",
       "      <th>density</th>\n",
       "      <th>pH</th>\n",
       "      <th>sulphates</th>\n",
       "      <th>alcohol</th>\n",
       "    </tr>\n",
       "  </thead>\n",
       "  <tbody>\n",
       "    <tr>\n",
       "      <th>0</th>\n",
       "      <td>0.345345</td>\n",
       "      <td>0.857357</td>\n",
       "      <td>0.000000</td>\n",
       "      <td>0.253253</td>\n",
       "      <td>0.395395</td>\n",
       "      <td>0.396897</td>\n",
       "      <td>0.449950</td>\n",
       "      <td>0.739239</td>\n",
       "      <td>0.899900</td>\n",
       "      <td>0.281281</td>\n",
       "      <td>0.153654</td>\n",
       "    </tr>\n",
       "    <tr>\n",
       "      <th>1</th>\n",
       "      <td>0.466967</td>\n",
       "      <td>0.963463</td>\n",
       "      <td>0.000000</td>\n",
       "      <td>0.753754</td>\n",
       "      <td>0.843844</td>\n",
       "      <td>0.813814</td>\n",
       "      <td>0.785786</td>\n",
       "      <td>0.506507</td>\n",
       "      <td>0.230230</td>\n",
       "      <td>0.662663</td>\n",
       "      <td>0.369870</td>\n",
       "    </tr>\n",
       "    <tr>\n",
       "      <th>2</th>\n",
       "      <td>0.466967</td>\n",
       "      <td>0.908408</td>\n",
       "      <td>0.162162</td>\n",
       "      <td>0.587087</td>\n",
       "      <td>0.771271</td>\n",
       "      <td>0.553554</td>\n",
       "      <td>0.690190</td>\n",
       "      <td>0.569069</td>\n",
       "      <td>0.360360</td>\n",
       "      <td>0.590591</td>\n",
       "      <td>0.369870</td>\n",
       "    </tr>\n",
       "    <tr>\n",
       "      <th>3</th>\n",
       "      <td>0.922923</td>\n",
       "      <td>0.061562</td>\n",
       "      <td>0.926927</td>\n",
       "      <td>0.253253</td>\n",
       "      <td>0.370871</td>\n",
       "      <td>0.634635</td>\n",
       "      <td>0.734234</td>\n",
       "      <td>0.777277</td>\n",
       "      <td>0.155656</td>\n",
       "      <td>0.355856</td>\n",
       "      <td>0.369870</td>\n",
       "    </tr>\n",
       "    <tr>\n",
       "      <th>4</th>\n",
       "      <td>0.345345</td>\n",
       "      <td>0.857357</td>\n",
       "      <td>0.000000</td>\n",
       "      <td>0.253253</td>\n",
       "      <td>0.395395</td>\n",
       "      <td>0.396897</td>\n",
       "      <td>0.449950</td>\n",
       "      <td>0.739239</td>\n",
       "      <td>0.899900</td>\n",
       "      <td>0.281281</td>\n",
       "      <td>0.153654</td>\n",
       "    </tr>\n",
       "  </tbody>\n",
       "</table>\n",
       "</div>"
      ],
      "text/plain": [
       "   fixed acidity  volatile acidity  citric acid  residual sugar  chlorides  \\\n",
       "0       0.345345          0.857357     0.000000        0.253253   0.395395   \n",
       "1       0.466967          0.963463     0.000000        0.753754   0.843844   \n",
       "2       0.466967          0.908408     0.162162        0.587087   0.771271   \n",
       "3       0.922923          0.061562     0.926927        0.253253   0.370871   \n",
       "4       0.345345          0.857357     0.000000        0.253253   0.395395   \n",
       "\n",
       "   free sulfur dioxide  total sulfur dioxide   density        pH  sulphates  \\\n",
       "0             0.396897              0.449950  0.739239  0.899900   0.281281   \n",
       "1             0.813814              0.785786  0.506507  0.230230   0.662663   \n",
       "2             0.553554              0.690190  0.569069  0.360360   0.590591   \n",
       "3             0.634635              0.734234  0.777277  0.155656   0.355856   \n",
       "4             0.396897              0.449950  0.739239  0.899900   0.281281   \n",
       "\n",
       "    alcohol  \n",
       "0  0.153654  \n",
       "1  0.369870  \n",
       "2  0.369870  \n",
       "3  0.369870  \n",
       "4  0.153654  "
      ]
     },
     "execution_count": 41,
     "metadata": {},
     "output_type": "execute_result"
    }
   ],
   "source": [
    "from sklearn.preprocessing import QuantileTransformer\n",
    "qts = QuantileTransformer()\n",
    "qts_X = pd.DataFrame(qts.fit_transform(X),columns=X.columns)\n",
    "qts_X.head(5)"
   ]
  },
  {
   "cell_type": "code",
   "execution_count": 42,
   "metadata": {},
   "outputs": [
    {
     "data": {
      "text/plain": [
       "Text(0.5, 1.0, 'Quantile Tranformer')"
      ]
     },
     "execution_count": 42,
     "metadata": {},
     "output_type": "execute_result"
    },
    {
     "data": {
      "image/png": "[encoded data removed]",
      "text/plain": [
       "<Figure size 576x360 with 2 Axes>"
      ]
     },
     "metadata": {
      "needs_background": "light"
     },
     "output_type": "display_data"
    }
   ],
   "source": [
    "\n",
    "fig, ax=plt.subplots(1,2,figsize=(8,5))\n",
    "fig.tight_layout()\n",
    "sns.distplot(X, ax=ax[0], color='g')\n",
    "ax[0].set_title(\"Unscaled\")\n",
    "sns.distplot(qts_X, ax=ax[1],color='greenyellow')\n",
    "ax[1].set_title(\"Quantile Tranformer\")"
   ]
  },
  {
   "cell_type": "code",
   "execution_count": 43,
   "metadata": {},
   "outputs": [
    {
     "data": {
      "text/plain": [
       "(0.6422734456671076, 0.307976549221441)"
      ]
     },
     "execution_count": 43,
     "metadata": {},
     "output_type": "execute_result"
    }
   ],
   "source": [
    "X_train,X_test,y_train,y_test=train_test_split(qts_X,y)\n",
    "model.fit(X_train,y_train)\n",
    "y_pred = model.predict(X_test)\n",
    "qts_rmse=np.sqrt(mean_squared_error(y_test,y_pred))\n",
    "qts_r2=r2_score(y_test,y_pred)\n",
    "rms.append(qts_rmse)\n",
    "r2.append(qts_r2)\n",
    "qts_rmse,qts_r2"
   ]
  },
  {
   "cell_type": "markdown",
   "metadata": {},
   "source": [
    "POWER TRANSFORMER"
   ]
  },
  {
   "cell_type": "code",
   "execution_count": 44,
   "metadata": {},
   "outputs": [
    {
     "data": {
      "text/html": [
       "<div>\n",
       "<style scoped>\n",
       "    .dataframe tbody tr th:only-of-type {\n",
       "        vertical-align: middle;\n",
       "    }\n",
       "\n",
       "    .dataframe tbody tr th {\n",
       "        vertical-align: top;\n",
       "    }\n",
       "\n",
       "    .dataframe thead th {\n",
       "        text-align: right;\n",
       "    }\n",
       "</style>\n",
       "<table border=\"1\" class=\"dataframe\">\n",
       "  <thead>\n",
       "    <tr style=\"text-align: right;\">\n",
       "      <th></th>\n",
       "      <th>fixed acidity</th>\n",
       "      <th>volatile acidity</th>\n",
       "      <th>citric acid</th>\n",
       "      <th>residual sugar</th>\n",
       "      <th>chlorides</th>\n",
       "      <th>free sulfur dioxide</th>\n",
       "      <th>total sulfur dioxide</th>\n",
       "      <th>density</th>\n",
       "      <th>pH</th>\n",
       "      <th>sulphates</th>\n",
       "      <th>alcohol</th>\n",
       "    </tr>\n",
       "  </thead>\n",
       "  <tbody>\n",
       "    <tr>\n",
       "      <th>0</th>\n",
       "      <td>-0.442666</td>\n",
       "      <td>0.995542</td>\n",
       "      <td>-1.531109</td>\n",
       "      <td>-0.597145</td>\n",
       "      <td>-0.172896</td>\n",
       "      <td>-0.268045</td>\n",
       "      <td>-0.124411</td>\n",
       "      <td>0.564442</td>\n",
       "      <td>1.275690</td>\n",
       "      <td>-0.581650</td>\n",
       "      <td>-1.075025</td>\n",
       "    </tr>\n",
       "    <tr>\n",
       "      <th>1</th>\n",
       "      <td>-0.161308</td>\n",
       "      <td>1.771299</td>\n",
       "      <td>-1.531109</td>\n",
       "      <td>0.556565</td>\n",
       "      <td>0.786204</td>\n",
       "      <td>0.993852</td>\n",
       "      <td>0.854954</td>\n",
       "      <td>0.036967</td>\n",
       "      <td>-0.709517</td>\n",
       "      <td>0.395140</td>\n",
       "      <td>-0.500860</td>\n",
       "    </tr>\n",
       "    <tr>\n",
       "      <th>2</th>\n",
       "      <td>-0.161308</td>\n",
       "      <td>1.269801</td>\n",
       "      <td>-1.255359</td>\n",
       "      <td>0.152372</td>\n",
       "      <td>0.560696</td>\n",
       "      <td>0.193450</td>\n",
       "      <td>0.540394</td>\n",
       "      <td>0.142851</td>\n",
       "      <td>-0.310054</td>\n",
       "      <td>0.183772</td>\n",
       "      <td>-0.500860</td>\n",
       "    </tr>\n",
       "    <tr>\n",
       "      <th>3</th>\n",
       "      <td>1.522582</td>\n",
       "      <td>-1.550050</td>\n",
       "      <td>1.398471</td>\n",
       "      <td>-0.597145</td>\n",
       "      <td>-0.226113</td>\n",
       "      <td>0.385115</td>\n",
       "      <td>0.693699</td>\n",
       "      <td>0.669354</td>\n",
       "      <td>-0.980154</td>\n",
       "      <td>-0.392318</td>\n",
       "      <td>-0.500860</td>\n",
       "    </tr>\n",
       "    <tr>\n",
       "      <th>4</th>\n",
       "      <td>-0.442666</td>\n",
       "      <td>0.995542</td>\n",
       "      <td>-1.531109</td>\n",
       "      <td>-0.597145</td>\n",
       "      <td>-0.172896</td>\n",
       "      <td>-0.268045</td>\n",
       "      <td>-0.124411</td>\n",
       "      <td>0.564442</td>\n",
       "      <td>1.275690</td>\n",
       "      <td>-0.581650</td>\n",
       "      <td>-1.075025</td>\n",
       "    </tr>\n",
       "  </tbody>\n",
       "</table>\n",
       "</div>"
      ],
      "text/plain": [
       "   fixed acidity  volatile acidity  citric acid  residual sugar  chlorides  \\\n",
       "0      -0.442666          0.995542    -1.531109       -0.597145  -0.172896   \n",
       "1      -0.161308          1.771299    -1.531109        0.556565   0.786204   \n",
       "2      -0.161308          1.269801    -1.255359        0.152372   0.560696   \n",
       "3       1.522582         -1.550050     1.398471       -0.597145  -0.226113   \n",
       "4      -0.442666          0.995542    -1.531109       -0.597145  -0.172896   \n",
       "\n",
       "   free sulfur dioxide  total sulfur dioxide   density        pH  sulphates  \\\n",
       "0            -0.268045             -0.124411  0.564442  1.275690  -0.581650   \n",
       "1             0.993852              0.854954  0.036967 -0.709517   0.395140   \n",
       "2             0.193450              0.540394  0.142851 -0.310054   0.183772   \n",
       "3             0.385115              0.693699  0.669354 -0.980154  -0.392318   \n",
       "4            -0.268045             -0.124411  0.564442  1.275690  -0.581650   \n",
       "\n",
       "    alcohol  \n",
       "0 -1.075025  \n",
       "1 -0.500860  \n",
       "2 -0.500860  \n",
       "3 -0.500860  \n",
       "4 -1.075025  "
      ]
     },
     "execution_count": 44,
     "metadata": {},
     "output_type": "execute_result"
    }
   ],
   "source": [
    "from sklearn.preprocessing import PowerTransformer\n",
    "pts = PowerTransformer()\n",
    "pts_X = pd.DataFrame(pts.fit_transform(X),columns=X.columns)\n",
    "pts_X.head(5)"
   ]
  },
  {
   "cell_type": "code",
   "execution_count": 45,
   "metadata": {},
   "outputs": [
    {
     "data": {
      "text/plain": [
       "Text(0.5, 1.0, 'Power Tranformer')"
      ]
     },
     "execution_count": 45,
     "metadata": {},
     "output_type": "execute_result"
    },
    {
     "data": {
      "image/png": "[encoded data removed]",
      "text/plain": [
       "<Figure size 576x360 with 2 Axes>"
      ]
     },
     "metadata": {
      "needs_background": "light"
     },
     "output_type": "display_data"
    }
   ],
   "source": [
    "\n",
    "fig, ax=plt.subplots(1,2,figsize=(8,5))\n",
    "fig.tight_layout()\n",
    "sns.distplot(X, ax=ax[0], color='g')\n",
    "ax[0].set_title(\"Unscaled\")\n",
    "sns.distplot(pts_X, ax=ax[1],color='tan')\n",
    "ax[1].set_title(\"Power Tranformer\")"
   ]
  },
  {
   "cell_type": "code",
   "execution_count": 46,
   "metadata": {},
   "outputs": [
    {
     "data": {
      "text/plain": [
       "(0.6640684262153503, 0.325682365998498)"
      ]
     },
     "execution_count": 46,
     "metadata": {},
     "output_type": "execute_result"
    }
   ],
   "source": [
    "X_train,X_test,y_train,y_test=train_test_split(pts_X,y)\n",
    "model.fit(X_train,y_train)\n",
    "y_pred = model.predict(X_test)\n",
    "pts_rmse=np.sqrt(mean_squared_error(y_test,y_pred))\n",
    "pts_r2=r2_score(y_test,y_pred)\n",
    "rms.append(pts_rmse)\n",
    "r2.append(pts_r2)\n",
    "pts_rmse,pts_r2"
   ]
  },
  {
   "cell_type": "code",
   "execution_count": 47,
   "metadata": {},
   "outputs": [],
   "source": [
    "data = [rms,r2]\n",
    "df1 = pd.DataFrame({'RMSE': rms,\n",
    "                   'R2_Score': r2},\n",
    "                   index = ['Unscaled','MinMax','Standard','Max Abs','Robust','Quantile Transformer','Power Transformer'])"
   ]
  },
  {
   "cell_type": "code",
   "execution_count": 48,
   "metadata": {},
   "outputs": [
    {
     "data": {
      "text/html": [
       "<div>\n",
       "<style scoped>\n",
       "    .dataframe tbody tr th:only-of-type {\n",
       "        vertical-align: middle;\n",
       "    }\n",
       "\n",
       "    .dataframe tbody tr th {\n",
       "        vertical-align: top;\n",
       "    }\n",
       "\n",
       "    .dataframe thead th {\n",
       "        text-align: right;\n",
       "    }\n",
       "</style>\n",
       "<table border=\"1\" class=\"dataframe\">\n",
       "  <thead>\n",
       "    <tr style=\"text-align: right;\">\n",
       "      <th></th>\n",
       "      <th>RMSE</th>\n",
       "      <th>R2_Score</th>\n",
       "    </tr>\n",
       "  </thead>\n",
       "  <tbody>\n",
       "    <tr>\n",
       "      <th>Unscaled</th>\n",
       "      <td>0.692019</td>\n",
       "      <td>0.335890</td>\n",
       "    </tr>\n",
       "    <tr>\n",
       "      <th>MinMax</th>\n",
       "      <td>0.635077</td>\n",
       "      <td>0.376572</td>\n",
       "    </tr>\n",
       "    <tr>\n",
       "      <th>Standard</th>\n",
       "      <td>0.683750</td>\n",
       "      <td>0.277908</td>\n",
       "    </tr>\n",
       "    <tr>\n",
       "      <th>Max Abs</th>\n",
       "      <td>0.648527</td>\n",
       "      <td>0.353912</td>\n",
       "    </tr>\n",
       "    <tr>\n",
       "      <th>Robust</th>\n",
       "      <td>0.642429</td>\n",
       "      <td>0.356240</td>\n",
       "    </tr>\n",
       "    <tr>\n",
       "      <th>Quantile Transformer</th>\n",
       "      <td>0.642273</td>\n",
       "      <td>0.307977</td>\n",
       "    </tr>\n",
       "    <tr>\n",
       "      <th>Power Transformer</th>\n",
       "      <td>0.664068</td>\n",
       "      <td>0.325682</td>\n",
       "    </tr>\n",
       "  </tbody>\n",
       "</table>\n",
       "</div>"
      ],
      "text/plain": [
       "                          RMSE  R2_Score\n",
       "Unscaled              0.692019  0.335890\n",
       "MinMax                0.635077  0.376572\n",
       "Standard              0.683750  0.277908\n",
       "Max Abs               0.648527  0.353912\n",
       "Robust                0.642429  0.356240\n",
       "Quantile Transformer  0.642273  0.307977\n",
       "Power Transformer     0.664068  0.325682"
      ]
     },
     "execution_count": 48,
     "metadata": {},
     "output_type": "execute_result"
    }
   ],
   "source": [
    "df1"
   ]
  },
  {
   "cell_type": "code",
   "execution_count": null,
   "metadata": {},
   "outputs": [],
   "source": []
  }
 ],
 "metadata": {
  "kernelspec": {
   "display_name": "Python 3",
   "language": "python",
   "name": "python3"
  },
  "language_info": {
   "codemirror_mode": {
    "name": "ipython",
    "version": 3
   },
   "file_extension": ".py",
   "mimetype": "text/x-python",
   "name": "python",
   "nbconvert_exporter": "python",
   "pygments_lexer": "ipython3",
   "version": "3.8.3"
  }
 },
 "nbformat": 4,
 "nbformat_minor": 4
}
